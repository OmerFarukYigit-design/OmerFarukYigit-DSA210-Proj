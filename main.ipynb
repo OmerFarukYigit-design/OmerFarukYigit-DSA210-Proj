import pandas as pd
import json

# Specify file paths
files = [
    "C:/Users/Asus/Downloads/StreamingHistory_music_0.json",
    "C:/Users/Asus/Downloads/StreamingHistory_music_1.json"
]

# Load and merge files
streaming_history = []
for file in files:
    with open(file, 'r', encoding='utf-8') as f:
        streaming_history.extend(json.load(f))

# Convert to DataFrame
streaming_df = pd.DataFrame(streaming_history)

# Let's check the first 5 lines
print(streaming_df.head())

# Let's process the time columns
streaming_df['endTime'] = pd.to_datetime(streaming_df['endTime'])
streaming_df['date'] = streaming_df['endTime'].dt.date
streaming_df['hour'] = streaming_df['endTime'].dt.hour
streaming_df['weekday'] = streaming_df['endTime'].dt.weekday

# Convert listening time to seconds
streaming_df['msPlayed'] = streaming_df['msPlayed'] / 1000  # Milisaniyeden saniyeye

# Let's check the first 5 lines again
print(streaming_df.head())


# Most streamed artists
top_artists = streaming_df['artistName'].value_counts().head(10)
print("Top 10 Artists:\n", top_artists)

# Most listened songs
top_tracks = streaming_df['trackName'].value_counts().head(10)
print("Top 10 Tracks:\n", top_tracks)

# Hourly listening density
listening_by_hour = streaming_df.groupby('hour').size()
print("Listening by Hour:\n", listening_by_hour)

import matplotlib.pyplot as plt
import seaborn as sns

# Top 10 Artists
plt.figure(figsize=(10, 6))
sns.barplot(x=top_artists.values, y=top_artists.index, palette='viridis')
plt.title("Top 10 Artists")
plt.xlabel("Play Count")
plt.ylabel("Artists")
plt.show()

# Hourly Listening Intensity
plt.figure(figsize=(10, 6))
listening_by_hour.plot(kind='bar', color='skyblue')
plt.title("Listening by Hour")
plt.xlabel("Hour of Day")
plt.ylabel("Play Count")
plt.show()


# Most listened songs
top_tracks = streaming_df['trackName'].value_counts().head(10)
print("Top 10 Tracks:\n", top_tracks)

# Visualization
plt.figure(figsize=(10, 6))
sns.barplot(x=top_tracks.values, y=top_tracks.index, palette='coolwarm')
plt.title("Top 10 Tracks")
plt.xlabel("Play Count")
plt.ylabel("Tracks")
plt.show()


# Listening intensity by day of the week
weekday_labels = ['Monday', 'Tuesday', 'Wednesday', 'Thursday', 'Friday', 'Saturday', 'Sunday']
listening_by_weekday = streaming_df.groupby('weekday').size()

# Visualization
plt.figure(figsize=(10, 6))
sns.barplot(x=weekday_labels, y=listening_by_weekday.values, color='purple')
plt.title("Listening Patterns by Weekday")
plt.xlabel("Day of Week")
plt.ylabel("Play Count")
plt.show()


import matplotlib.pyplot as plt
import seaborn as sns
import pandas as pd

# Specify file paths
files = [
    "C:/Users/Asus/Downloads/StreamingHistory_music_0.json",
    "C:/Users/Asus/Downloads/StreamingHistory_music_1.json"
]

# Define the get_season function
def get_season(date):
    month = date.month
    if month in [12, 1, 2]:
        return 'Winter'
    elif month in [3, 4, 5]:
        return 'Spring'
    elif month in [6, 7, 8]:
        return 'Summer'
    else:
        return 'Autumn'

# Load and merge files
streaming_history = []
for file in files:
    with open(file, 'r', encoding='utf-8') as f:
        streaming_history.extend(json.load(f))

# Convert to DataFrame
streaming_data = pd.DataFrame(streaming_history)

# Process time columns
streaming_data['endTime'] = pd.to_datetime(streaming_data['endTime'])
streaming_data['season'] = streaming_data['endTime'].apply(lambda x: get_season(x))

seasonal_playtime = streaming_data.groupby('season')['msPlayed'].sum().reset_index()
seasonal_playtime['hoursPlayed'] = seasonal_playtime['msPlayed'] / (1000 * 60 * 60)

# Group by season and artistName
artist_seasonal_data = streaming_data.groupby(['season', 'artistName'])['msPlayed'].sum().reset_index()
artist_seasonal_data['hoursPlayed'] = artist_seasonal_data['msPlayed'] / (1000 * 60 * 60)

# Find top artists for each season
top_artists_per_season = artist_seasonal_data.sort_values(by=['season', 'hoursPlayed'], ascending=[True, False])
top_artists_per_season = top_artists_per_season.groupby('season').head(5)

# Mock Spotify seasonal trends data
spotify_seasonal_trends = pd.DataFrame({
    'season': ['Winter', 'Spring', 'Summer', 'Autumn'],
    'popularGenres': ['Melancholic, Acoustic', 'Upbeat, Indie', 'Energetic, Dance', 'Soulful, Reflective']
})

# Group user data by season and sum listening hours
artist_seasonal_summary = streaming_data.groupby('season')['msPlayed'].sum().reset_index()
artist_seasonal_summary['hoursPlayed'] = artist_seasonal_summary['msPlayed'] / (1000 * 60 * 60)

# Merge user data with Spotify trends
comparison = pd.merge(artist_seasonal_summary, spotify_seasonal_trends, on='season', how='left')

# Display the comparison table for debugging
print(comparison)

# Display the result for debugging
print(top_artists_per_season)

# Seasonal Listening Duration
plt.figure(figsize=(10, 6))
sns.barplot(x=seasonal_playtime['season'], y=seasonal_playtime['hoursPlayed'], palette='coolwarm')
plt.title("Total Listening Duration by Season (Hours)")
plt.xlabel("Season")
plt.ylabel("Hours Played")
plt.show()

# Top Artists by Season
plt.figure(figsize=(12, 8))
for i, season in enumerate(top_artists_per_season['season'].unique()):
    plt.subplot(2, 2, i + 1)
    data = top_artists_per_season[top_artists_per_season['season'] == season]
    sns.barplot(x=data['hoursPlayed'], y=data['artistName'], palette='viridis')
    plt.title(f"Top Artists in {season}")
    plt.xlabel("Hours Played")
    plt.ylabel("Artist")
    plt.tight_layout()
plt.show()

# Spotify Trends vs. User Data
plt.figure(figsize=(10, 6))
sns.barplot(x=comparison['season'], y=comparison['hoursPlayed'], palette='coolwarm', label='Your Listening (Hours)')
plt.title("Spotify Trends vs. Your Listening by Season")
plt.xlabel("Season")
plt.ylabel("Hours Played")
for i, genres in enumerate(comparison['popularGenres']):
    plt.text(i, comparison['hoursPlayed'].iloc[i] + 2, genres, ha='center', fontsize=10, color='black')
plt.show()

